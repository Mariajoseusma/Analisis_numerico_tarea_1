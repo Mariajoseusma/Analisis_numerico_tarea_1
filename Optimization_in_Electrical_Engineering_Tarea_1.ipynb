{
  "nbformat": 4,
  "nbformat_minor": 0,
  "metadata": {
    "colab": {
      "name": "Optimization in Electrical Engineering Tarea 1.ipynb",
      "provenance": [],
      "authorship_tag": "ABX9TyOc/VVnqjD0Y28m2dDvWZnt",
      "include_colab_link": true
    },
    "kernelspec": {
      "name": "python3",
      "display_name": "Python 3"
    }
  },
  "cells": [
    {
      "cell_type": "markdown",
      "metadata": {
        "id": "view-in-github",
        "colab_type": "text"
      },
      "source": [
        "<a href=\"https://colab.research.google.com/github/Mariajoseusma/Analisis_numerico_tarea_1/blob/main/Optimization_in_Electrical_Engineering_Tarea_1.ipynb\" target=\"_parent\"><img src=\"https://colab.research.google.com/assets/colab-badge.svg\" alt=\"Open In Colab\"/></a>"
      ]
    },
    {
      "cell_type": "markdown",
      "metadata": {
        "id": "SvBCynj1d1eK"
      },
      "source": [
        "#Optimization in Electrical Engineering Tarea 1\n"
      ]
    },
    {
      "cell_type": "code",
      "metadata": {
        "id": "Qwut4WTUeNqU"
      },
      "source": [
        "import numpy as np\n",
        "import sympy as sp\n",
        "import matplotlib.pyplot as plt\n",
        "from matplotlib.lines import Line2D\n",
        "from mpl_toolkits.mplot3d import Axes3D\n",
        "import matplotlib.gridspec as gridspec \n",
        "from mpl_toolkits.axes_grid1 import make_axes_locatable \n",
        "\n",
        "from matplotlib import cm\n",
        "# from matplotlib.ticker import LinearLocator, FormatStrFormatter"
      ],
      "execution_count": null,
      "outputs": []
    },
    {
      "cell_type": "markdown",
      "metadata": {
        "id": "LneOIt1PlFuF"
      },
      "source": [
        "**Problema 2**. Hallar rango"
      ]
    },
    {
      "cell_type": "code",
      "metadata": {
        "colab": {
          "base_uri": "https://localhost:8080/"
        },
        "id": "_wwKJVy3lbRu",
        "outputId": "90fecbbb-4e66-4fed-d9e0-9c44bf873eee"
      },
      "source": [
        "A = sp.Matrix([[-1, 2, 0], [5, 1, -2], [6, 3, 4]])\n",
        "print(\"Rango A: \",A.rank())\n",
        "\n",
        "B = sp.Matrix([[3, 2, 2, -5], [0.6, 1.5, 1.5, -5.4], [1.2, -0.3, -0.3, 2.4]])\n",
        "print(\"Rango B: \",B.rank())\n"
      ],
      "execution_count": null,
      "outputs": [
        {
          "output_type": "stream",
          "text": [
            "Rango A:  3\n",
            "Rango B:  3\n"
          ],
          "name": "stdout"
        }
      ]
    },
    {
      "cell_type": "markdown",
      "metadata": {
        "id": "4Pr7QtfKnJ8a"
      },
      "source": [
        "**Problema 3.** Hallar numero de soluciones"
      ]
    },
    {
      "cell_type": "code",
      "metadata": {
        "colab": {
          "base_uri": "https://localhost:8080/"
        },
        "id": "hcPM8m63nShJ",
        "outputId": "eb620e4b-069c-4399-ddc6-0c1600e40768"
      },
      "source": [
        "A = np.array([[2, -1, 3, 0], [-1, 4, -1, 10], [0, 10, 15, 50], [20, 10, 1, 40]])\n",
        "\n",
        "b = np.array([[0],[10],[50],[40]])\n",
        "\n",
        "x, residuals, rank, s = np.linalg.lstsq(A, b, rcond=None)\n",
        "\n",
        "print(\"Solución a: \\n\",x)\n",
        "\n",
        "A_b = np.array([[4, 1, 0, 4], [5, -3, 1, 2], [-9, 2, -1, 5]])\n",
        "\n",
        "b_b= np.array([[4],[2],[5]])\n",
        "\n",
        "x_b, residuals_b, rank_b, s_b = np.linalg.lstsq(A, b, rcond=None)\n",
        "\n",
        "print(\"Solución b: \\n\",x_b)\n",
        "\n"
      ],
      "execution_count": null,
      "outputs": [
        {
          "output_type": "stream",
          "text": [
            "Solución a: \n",
            " [[-4.30096655e-17]\n",
            " [ 1.53210777e-14]\n",
            " [ 4.54544569e-15]\n",
            " [ 1.00000000e+00]]\n",
            "Solución b: \n",
            " [[-4.30096655e-17]\n",
            " [ 1.53210777e-14]\n",
            " [ 4.54544569e-15]\n",
            " [ 1.00000000e+00]]\n"
          ],
          "name": "stdout"
        }
      ]
    },
    {
      "cell_type": "markdown",
      "metadata": {
        "id": "8IrInmlEJjKN"
      },
      "source": [
        "**Problema 4.** Hallar valores y vectores propios"
      ]
    },
    {
      "cell_type": "code",
      "metadata": {
        "colab": {
          "base_uri": "https://localhost:8080/"
        },
        "id": "CbMVfcurJx-t",
        "outputId": "e591c523-b29b-457a-a6d6-4d8a8bb6c593"
      },
      "source": [
        "A = np.array([[-5, 0],[0, 3]])\n",
        "\n",
        "evals, evecs = np.linalg.eig(A)\n",
        "\n",
        "print(\"a. \\nValores propios: \", evals)\n",
        "print(\"Vectores propios: \\n\", evecs)\n",
        "\n",
        "B = np.array([[-1, 2],[5, 2]])\n",
        "\n",
        "B_evals, B_evecs = np.linalg.eig(B)\n",
        "\n",
        "print(\"b. \\nValores propios: \", B_evals)\n",
        "print(\"Vectores propios: \\n\", B_evecs)"
      ],
      "execution_count": null,
      "outputs": [
        {
          "output_type": "stream",
          "text": [
            "a. \n",
            "Valores propios:  [-5.  3.]\n",
            "Vectores propios: \n",
            " [[1. 0.]\n",
            " [0. 1.]]\n",
            "b. \n",
            "Valores propios:  [-3.  4.]\n",
            "Vectores propios: \n",
            " [[-0.70710678 -0.37139068]\n",
            " [ 0.70710678 -0.92847669]]\n"
          ],
          "name": "stdout"
        }
      ]
    },
    {
      "cell_type": "markdown",
      "metadata": {
        "id": "AL2ANSnfOo-i"
      },
      "source": [
        "**Problema 5.** Diagonalizar"
      ]
    },
    {
      "cell_type": "code",
      "metadata": {
        "colab": {
          "base_uri": "https://localhost:8080/"
        },
        "id": "KXKiVOoXPGq5",
        "outputId": "35486b8f-3e1d-4406-e413-27c65d407424"
      },
      "source": [
        "A = np.array([[1, -3], [4, 10]])\n",
        "\n",
        "evals, evecs = np.linalg.eig(A)\n",
        "\n",
        "A = evecs @ np.diag(evals) @ np.linalg.inv(evecs)\n",
        "\n",
        "print(\"a. Diagonalización: \\n\", A)\n",
        "\n",
        "B = np.array([[4, 3, 6], [3, -8, 15], [6, 15, 10]])\n",
        "\n",
        "B_evals, B_evecs = np.linalg.eig(B)\n",
        "\n",
        "B = B_evecs @ np.diag(B_evals) @ B_evecs.T\n",
        "\n",
        "print(\"b. Diagonalización: \\n\", B)"
      ],
      "execution_count": null,
      "outputs": [
        {
          "output_type": "stream",
          "text": [
            "a. Diagonalización: \n",
            " [[ 1. -3.]\n",
            " [ 4. 10.]]\n",
            "b. Diagonalización: \n",
            " [[ 4.  3.  6.]\n",
            " [ 3. -8. 15.]\n",
            " [ 6. 15. 10.]]\n"
          ],
          "name": "stdout"
        }
      ]
    },
    {
      "cell_type": "markdown",
      "metadata": {
        "id": "awWPkRGiYa0C"
      },
      "source": [
        "**Problema 6.** Encontrar Singular Value Decomposition"
      ]
    },
    {
      "cell_type": "code",
      "metadata": {
        "colab": {
          "base_uri": "https://localhost:8080/"
        },
        "id": "U48sx676YnMq",
        "outputId": "64a34614-7fb7-4443-e838-0a5138a7d650"
      },
      "source": [
        " A = np.array([[1, 2, 1],[2, 3, 2],[1, 2, 1]])\n",
        " \n",
        " [U, S, V] = np.linalg.svd(A)\n",
        "\n",
        " print(\"a. SVD\")\n",
        " print(\"U: \\n\",U)\n",
        " print(\"S: \\n\",S)\n",
        " print(\"V: \\n\",V)\n",
        "\n",
        "B = np.array([[0, 1, 0, 0],[0, 0, 4, 0],[0, 0, 0, 9], [0, 0, 0, 0]])\n",
        " \n",
        " [B_U, B_S, B_V] = np.linalg.svd(B)\n",
        "\n",
        " print(\"b. SVD\")\n",
        " print(\"U: \\n\",B_U)\n",
        " print(\"S: \\n\",B_S)\n",
        " print(\"V: \\n\",B_V)"
      ],
      "execution_count": null,
      "outputs": [
        {
          "output_type": "stream",
          "text": [
            "a. SVD\n",
            "U: \n",
            " [[-4.54401349e-01  5.41774320e-01 -7.07106781e-01]\n",
            " [-7.66184591e-01 -6.42620551e-01 -4.06896198e-16]\n",
            " [-4.54401349e-01  5.41774320e-01  7.07106781e-01]]\n",
            "S: \n",
            " [5.37228132e+00 3.72281323e-01 3.52094170e-16]\n",
            "V: \n",
            " [[-4.54401349e-01 -7.66184591e-01 -4.54401349e-01]\n",
            " [-5.41774320e-01  6.42620551e-01 -5.41774320e-01]\n",
            " [ 7.07106781e-01  5.73688384e-16 -7.07106781e-01]]\n",
            "b. SVD\n",
            "U: \n",
            " [[0. 0. 1. 0.]\n",
            " [0. 1. 0. 0.]\n",
            " [1. 0. 0. 0.]\n",
            " [0. 0. 0. 1.]]\n",
            "S: \n",
            " [9. 4. 1. 0.]\n",
            "V: \n",
            " [[ 0.  0.  0.  1.]\n",
            " [ 0.  0.  1.  0.]\n",
            " [ 0.  1.  0.  0.]\n",
            " [-1.  0.  0.  0.]]\n"
          ],
          "name": "stdout"
        }
      ]
    },
    {
      "cell_type": "markdown",
      "metadata": {
        "id": "4gfvUBKAbB3Q"
      },
      "source": [
        "**Problema 9.** Plot the graph, level sets and gradient"
      ]
    },
    {
      "cell_type": "code",
      "metadata": {
        "colab": {
          "base_uri": "https://localhost:8080/",
          "height": 58
        },
        "id": "NVTN_HgfapE6",
        "outputId": "8828f876-9134-4452-99ac-1ade592ff20f"
      },
      "source": [
        "x1, x2 = sp.symbols(\"x1, x2\") #Crear variables simbólicas\n",
        "\n",
        "x = np.array([x1, x2])\n",
        "fx =  (x1**4 + 2*(x1**3)*x2 + 6*(x1**2)*(x2**2) + x2**4)/ (x1**4 + x2**4 + 1)\n",
        "fx"
      ],
      "execution_count": null,
      "outputs": [
        {
          "output_type": "execute_result",
          "data": {
            "text/latex": "$\\displaystyle \\frac{x_{1}^{4} + 2 x_{1}^{3} x_{2} + 6 x_{1}^{2} x_{2}^{2} + x_{2}^{4}}{x_{1}^{4} + x_{2}^{4} + 1}$",
            "text/plain": [
              "(x1**4 + 2*x1**3*x2 + 6*x1**2*x2**2 + x2**4)/(x1**4 + x2**4 + 1)"
            ]
          },
          "metadata": {
            "tags": []
          },
          "execution_count": 128
        }
      ]
    },
    {
      "cell_type": "code",
      "metadata": {
        "id": "cB4DITYJnKvQ"
      },
      "source": [
        "XX = np.arange(-3,3,0.25)\n",
        "YY = np.arange(-3,3,0.25)\n",
        "\n",
        "X, Y = np.meshgrid(XX,YY)\n",
        "\n",
        "FX = sp.lambdify((x1,x2),fx)\n",
        "\n",
        "Z = FX(X,Y)"
      ],
      "execution_count": null,
      "outputs": []
    },
    {
      "cell_type": "code",
      "metadata": {
        "colab": {
          "base_uri": "https://localhost:8080/",
          "height": 265
        },
        "id": "hL-bMLAmp1tY",
        "outputId": "d8fc5bf0-3201-4417-e78c-bb7fdd5f8f0e"
      },
      "source": [
        "fig = plt.figure()\n",
        "ax = fig.gca(projection = '3d')\n",
        "\n",
        "surf = ax.plot_surface(X, Y, Z, cmap = cm.coolwarm, linewidth = 0, antialiased = False)\n",
        "\n",
        "Z.shape\n",
        "\n",
        "fig.colorbar(surf, shrink = 0.5, aspect = 5)"
      ],
      "execution_count": null,
      "outputs": [
        {
          "output_type": "execute_result",
          "data": {
            "text/plain": [
              "<matplotlib.colorbar.Colorbar at 0x7f163ac66f50>"
            ]
          },
          "metadata": {
            "tags": []
          },
          "execution_count": 135
        },
        {
          "output_type": "display_data",
          "data": {
            "image/png": "[encoded data removed]",
            "text/plain": [
              "<Figure size 432x288 with 2 Axes>"
            ]
          },
          "metadata": {
            "tags": [],
            "needs_background": "light"
          }
        }
      ]
    }
  ]
}